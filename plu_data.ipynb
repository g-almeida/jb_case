{
 "cells": [
  {
   "cell_type": "code",
   "execution_count": 2,
   "metadata": {},
   "outputs": [],
   "source": [
    "import os\n",
    "import zipfile\n",
    "#from zipfile import ZipFile"
   ]
  },
  {
   "cell_type": "code",
   "execution_count": 8,
   "metadata": {},
   "outputs": [
    {
     "data": {
      "text/plain": [
       "['DadosPluviometricos_2018.zip',\n",
       " 'DadosPluviometricos_2019.zip',\n",
       " 'DadosPluviometricos_2020.zip',\n",
       " 'DadosPluviometricos_2021.zip',\n",
       " 'DadosPluviometrico_2022.zip']"
      ]
     },
     "execution_count": 8,
     "metadata": {},
     "output_type": "execute_result"
    }
   ],
   "source": [
    "os.listdir('/mnt/d/_Gabriel/Estudo/UFF/10 Período/Saneamento 2/APS4/alertaRio')"
   ]
  },
  {
   "cell_type": "code",
   "execution_count": null,
   "metadata": {},
   "outputs": [],
   "source": [
    "zip_path = '/mnt/d/_Gabriel/Estudo/UFF/10 Período/Saneamento 2/APS4/alertaRio/'"
   ]
  },
  {
   "cell_type": "code",
   "execution_count": 5,
   "metadata": {},
   "outputs": [],
   "source": [
    "for cada in os.listdir(zip_path):\n",
    "    if '.zip' in cada:\n",
    "        with zipfile.ZipFile(zip_path + 'DadosPluviometricos_2018.zip', 'r') as zipObj:\n",
    "            zipObj.extractall('/mnt/d/_Gabriel/Estudo/UFF/10 Período/Saneamento 2/APS4/alertaRio/extracted_files')"
   ]
  },
  {
   "cell_type": "code",
   "execution_count": null,
   "metadata": {},
   "outputs": [],
   "source": []
  }
 ],
 "metadata": {
  "kernelspec": {
   "display_name": "Python 3.8.3 ('smap')",
   "language": "python",
   "name": "python3"
  },
  "language_info": {
   "codemirror_mode": {
    "name": "ipython",
    "version": 3
   },
   "file_extension": ".py",
   "mimetype": "text/x-python",
   "name": "python",
   "nbconvert_exporter": "python",
   "pygments_lexer": "ipython3",
   "version": "3.8.3"
  },
  "orig_nbformat": 4,
  "vscode": {
   "interpreter": {
    "hash": "0758a891eb7969eb33f5b4bf6e50552c83fe17060df66a72595bef353f9015de"
   }
  }
 },
 "nbformat": 4,
 "nbformat_minor": 2
}
