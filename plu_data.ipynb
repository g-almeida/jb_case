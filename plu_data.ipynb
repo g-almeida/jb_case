{
 "cells": [
  {
   "cell_type": "code",
   "execution_count": 6,
   "metadata": {},
   "outputs": [
    {
     "data": {
      "text/html": [
       "<div>\n",
       "<style scoped>\n",
       "    .dataframe tbody tr th:only-of-type {\n",
       "        vertical-align: middle;\n",
       "    }\n",
       "\n",
       "    .dataframe tbody tr th {\n",
       "        vertical-align: top;\n",
       "    }\n",
       "\n",
       "    .dataframe thead th {\n",
       "        text-align: right;\n",
       "    }\n",
       "</style>\n",
       "<table border=\"1\" class=\"dataframe\">\n",
       "  <thead>\n",
       "    <tr style=\"text-align: right;\">\n",
       "      <th></th>\n",
       "      <th>id_estacao</th>\n",
       "      <th>estacao</th>\n",
       "      <th>latitude</th>\n",
       "      <th>longitude</th>\n",
       "      <th>cota</th>\n",
       "      <th>x</th>\n",
       "      <th>y</th>\n",
       "      <th>endereco</th>\n",
       "      <th>situacao</th>\n",
       "      <th>data_inicio_operacao</th>\n",
       "      <th>data_fim_operacao</th>\n",
       "      <th>data_atualizacao</th>\n",
       "    </tr>\n",
       "  </thead>\n",
       "  <tbody>\n",
       "    <tr>\n",
       "      <th>5</th>\n",
       "      <td>16.0</td>\n",
       "      <td>Jardim botanico</td>\n",
       "      <td>-22.97278</td>\n",
       "      <td>-43.22389</td>\n",
       "      <td>0.0</td>\n",
       "      <td>682133.53</td>\n",
       "      <td>7.458453e+09</td>\n",
       "      <td>Jóquei Clube - Rua Jardim Botânico,1003</td>\n",
       "      <td>Operante</td>\n",
       "      <td>1997-01-01 01:19:20 UTC</td>\n",
       "      <td>NaN</td>\n",
       "      <td>2022-04-18 14:45:00 UTC</td>\n",
       "    </tr>\n",
       "  </tbody>\n",
       "</table>\n",
       "</div>"
      ],
      "text/plain": [
       "   id_estacao          estacao  latitude  longitude  cota          x  \\\n",
       "5        16.0  Jardim botanico -22.97278  -43.22389   0.0  682133.53   \n",
       "\n",
       "              y                                 endereco  situacao  \\\n",
       "5  7.458453e+09  Jóquei Clube - Rua Jardim Botânico,1003  Operante   \n",
       "\n",
       "      data_inicio_operacao data_fim_operacao         data_atualizacao  \n",
       "5  1997-01-01 01:19:20 UTC               NaN  2022-04-18 14:45:00 UTC  "
      ]
     },
     "execution_count": 6,
     "metadata": {},
     "output_type": "execute_result"
    }
   ],
   "source": [
    "import os\n",
    "import zipfile\n",
    "\n",
    "for cada in os.listdir('/mnt/d/_Gabriel/Estudo/UFF/10 Período/Saneamento 2/APS4/alertaRio'):\n",
    "    zipfile.ZipFile()"
   ]
  },
  {
   "cell_type": "code",
   "execution_count": 13,
   "metadata": {},
   "outputs": [
    {
     "data": {
      "text/plain": [
       "['DadosPluviometricos_2018.zip',\n",
       " 'DadosPluviometricos_2019.zip',\n",
       " 'DadosPluviometricos_2020.zip',\n",
       " 'DadosPluviometricos_2021.zip',\n",
       " 'DadosPluviometrico_2022.zip']"
      ]
     },
     "execution_count": 13,
     "metadata": {},
     "output_type": "execute_result"
    }
   ],
   "source": [
    "os.listdir('/mnt/d/_Gabriel/Estudo/UFF/10 Período/Saneamento 2/APS4/alertaRio')"
   ]
  },
  {
   "cell_type": "code",
   "execution_count": null,
   "metadata": {},
   "outputs": [],
   "source": []
  }
 ],
 "metadata": {
  "kernelspec": {
   "display_name": "Python 3.8.3 ('smap')",
   "language": "python",
   "name": "python3"
  },
  "language_info": {
   "codemirror_mode": {
    "name": "ipython",
    "version": 3
   },
   "file_extension": ".py",
   "mimetype": "text/x-python",
   "name": "python",
   "nbconvert_exporter": "python",
   "pygments_lexer": "ipython3",
   "version": "3.8.3"
  },
  "orig_nbformat": 4,
  "vscode": {
   "interpreter": {
    "hash": "0758a891eb7969eb33f5b4bf6e50552c83fe17060df66a72595bef353f9015de"
   }
  }
 },
 "nbformat": 4,
 "nbformat_minor": 2
}
